{
 "cells": [
  {
   "cell_type": "markdown",
   "metadata": {},
   "source": [
    "Welcome! The goal of this notebook is to familiarize economists with the numerical optimization techniques often required for quantitative work, as well as a fairly blatant attempt to sway others towards doing such work in open source software such as Python/Pyomo (or Julia/JuMP, which is faster but I think less flexible in the types of nonlinear problems it can easily adapt to) and combine resources.\n",
    "\n",
    "In this notebook, I'll introduce some problems you may encounter in classwork and how you would tackle such problems using numerical optimization (even if the problems may have direct solutions), explaining the concepts as they arise.\n",
    "\n",
    "### Prerequisites \n",
    "- Python installation of 2.7 or 3.4+, I recommend Anaconda https://www.anaconda.com/products/individual\n",
    "- Pyomo, which can be installed from the directions at https://pyomo.readthedocs.io/en/stable/installation.html\n",
    "- Optimization solvers such as ipopt -- ```conda install -c conda-forge ipopt``` (Note: you may have to debug this, I had to debug a bit on Ubuntu but directions are platform specific). You can install this without Anaconda, but it is extremely complicated. Using conda is **strongly** recommended. \n",
    "- Numpy, ```conda install numpy```\n"
   ]
  },
  {
   "cell_type": "markdown",
   "metadata": {},
   "source": [
    "### Problem 1. Solving for an optimal consumption bundle / simple nonlinear programming problem\n",
    "\n",
    "Consider the consumer's maximization problem of \n",
    "$$\\max_{\\{x_i\\}_{i=1}^N} U(x_1,\\dots,x_n)$$ subject to the standard budget constraint that $$\\sum_i p_ix_i \\leq w.$$\n",
    "\n",
    "Suppose the number of goods is N=2.\n",
    "\n",
    "Let's begin by assuming $U(\\cdot)$ is Cobb Douglas with equal shares, i.e. $U(x_1,x_2)=x_1^{1/2}x_2^{1/2}$. Let's also assume that $p_1=2$, $p_2=1$ and $w=10$. Solving for the optimal consumption bundle using standard techniques, $x_1^*=(1/2)\\times\\frac{w}{p_1}=2.5$ and $x_2^*=5$. But let's pretend for now that this was particularly difficult and we needed to turn to the computer to solve this.\n"
   ]
  },
  {
   "cell_type": "code",
   "execution_count": 1,
   "metadata": {},
   "outputs": [],
   "source": [
    "import numpy as np\n",
    "import pyomo.environ as pyo ### imports pyomo environment\n",
    "from pyomo.opt import SolverFactory, SolverStatus, TerminationCondition ### imports solvers\n",
    "opt = SolverFactory('ipopt') ### Free solver good for nonlinear problems\n",
    "\n",
    "model = pyo.ConcreteModel() ### define an initial model. \n",
    "# Note that this model is concrete because we initialize it with real, numeric values for prices\n",
    "# See: https://pyomo.readthedocs.io/en/stable/pyomo_overview/abstract_concrete.html\n",
    "\n",
    "N = 2 # number of goods\n",
    "model.N = N # set this parameter for the model \n",
    "model.i = pyo.RangeSet(1, model.N) # create a set for these goods (goods in range 1 to N)\n",
    "\n",
    "model.alpha = pyo.Param(model.i,within=pyo.NonNegativeReals,default=1.0/N) # set alpha as a vector of parameters \n",
    "# alpha is indexed by the set i\n",
    "# within = fixes the parameter domain to the nonnegative reals\n",
    "# default: set a default value to 1/N\n",
    "\n",
    "model.w = 10\n",
    "model.p = {1:2,2:1} # dictionary of prices\n",
    "model.x = pyo.Var(model.i,within=pyo.NonNegativeReals,initialize=1.0)\n",
    "# set variables, indexed by the set i. These are ultimately set by the optimization process\n",
    "# set domain with within\n",
    "# give a start value to start the optimization\n",
    "\n",
    "def CobbDouglasUtility(model):\n",
    "    # define the utility function, multiplying each x^alpha\n",
    "    # import the model so we can grab the different objects we defined above from it\n",
    "    return pyo.prod(model.x[i]**model.alpha[i] for i in model.i)\n",
    "\n",
    "def BudgetConstraint(model):\n",
    "    # define the budget constraint, adding up each p*x and setting <= w\n",
    "    return(sum(model.p[i]*model.x[i] for i in model.i) <= model.w)\n",
    "\n",
    "# set objective function\n",
    "model.objective = pyo.Objective(rule=CobbDouglasUtility, sense=-1) ### last argument sets objective to maximize; minimize is the default\n",
    "\n",
    "# set constraint\n",
    "model.BC = pyo.Constraint(rule=BudgetConstraint)\n",
    "\n",
    "# call ipopt to solve\n",
    "results = opt.solve(model)"
   ]
  },
  {
   "cell_type": "code",
   "execution_count": 2,
   "metadata": {
    "scrolled": true
   },
   "outputs": [
    {
     "name": "stdout",
     "output_type": "stream",
     "text": [
      "Model unknown\n",
      "\n",
      "  Variables:\n",
      "    x : Size=2, Index=i\n",
      "        Key : Lower : Value              : Upper : Fixed : Stale : Domain\n",
      "          1 :     0 : 2.5000000232267734 :  None : False : False : NonNegativeReals\n",
      "          2 :     0 : 5.0000000464532866 :  None : False : False : NonNegativeReals\n",
      "\n",
      "  Objectives:\n",
      "    objective : Size=1, Index=None, Active=True\n",
      "        Key  : Active : Value\n",
      "        None :   True : 3.535533938780264\n",
      "\n",
      "  Constraints:\n",
      "    BC : Size=1\n",
      "        Key  : Lower : Body               : Upper\n",
      "        None :  None : 10.000000092906834 :  10.0\n"
     ]
    }
   ],
   "source": [
    "if (results.solver.status == SolverStatus.ok) and (results.solver.termination_condition == TerminationCondition.optimal):\n",
    "     model.display()\n",
    "elif results.solver.termination_condition == TerminationCondition.infeasible:\n",
    "     print (\"This is an infeasible problem\")\n",
    "else:     # something else is wrong\n",
    "    print(str(results.solver))"
   ]
  },
  {
   "cell_type": "markdown",
   "metadata": {},
   "source": [
    "Notice here that the optimal values of $x_1$ and $x_2$ are somewhat above the optimal values we calculated. This is because the solver aims to maximize the objective while holding the constraint within some small tolerance of precision. You can adjust this using the parameter ```comparison_tolerance_for_fixed_vars``` (which is set to 1e-05 as a default). In general, adjusting the tolerance would come at the expense of computation time, and I don't foresee the need in most applications to mess around here."
   ]
  },
  {
   "cell_type": "code",
   "execution_count": 104,
   "metadata": {},
   "outputs": [
    {
     "name": "stdout",
     "output_type": "stream",
     "text": [
      "Optimal x1 is 2.5 and optimal x2 is 5.0\n"
     ]
    }
   ],
   "source": [
    "# note that above you can see that the child \"x\" of \"model\" has 2 keys,\n",
    "# 1 and 2. This gives us the hint that x is a dictionary that we can \n",
    "# subset just like any other!\n",
    "\n",
    "x1 = np.round(model.x[1].value,4) ### enough to round off any tolerance errors\n",
    "x2 = np.round(model.x[2].value, 4)\n",
    "print(\"Optimal x1 is\",x1,\"and optimal x2 is\",x2)"
   ]
  },
  {
   "cell_type": "code",
   "execution_count": 11,
   "metadata": {},
   "outputs": [
    {
     "data": {
      "text/plain": [
       "3.535533938780264"
      ]
     },
     "execution_count": 11,
     "metadata": {},
     "output_type": "execute_result"
    }
   ],
   "source": [
    "# getting the max value of the objective function:\n",
    "model.objective()"
   ]
  },
  {
   "cell_type": "code",
   "execution_count": 12,
   "metadata": {},
   "outputs": [
    {
     "data": {
      "text/plain": [
       "10.000000092906834"
      ]
     },
     "execution_count": 12,
     "metadata": {},
     "output_type": "execute_result"
    }
   ],
   "source": [
    "# getting fulfilled value of the budget constraint:\n",
    "model.BC()"
   ]
  },
  {
   "cell_type": "markdown",
   "metadata": {},
   "source": [
    "Now, the beauty of Pyomo is that we can easily adjust the parameters of the model and resolve. \n",
    "\n",
    "Suppose now that $N=3$, and $U(\\cdot)$ is quasilinear, i.e. $U(x_1,x_2,x_3)=x_1+\\sqrt{x_2\\times x_3}$. And now suppose that $\\hat{p} = (2,1,1)$."
   ]
  },
  {
   "cell_type": "code",
   "execution_count": 13,
   "metadata": {},
   "outputs": [],
   "source": [
    "model = pyo.ConcreteModel() ### define an initial model\n",
    "N = 3\n",
    "model.N = N\n",
    "model.i = pyo.RangeSet(1, model.N)\n",
    "model.p = {1:2,2:1,3:1}\n",
    "model.x = pyo.Var(model.i,within=pyo.PositiveReals,initialize=1.0)\n",
    "model.w = 10\n",
    "\n",
    "\n",
    "def QLinearUtility(model):\n",
    "    return model.x[1]+(model.x[2]*model.x[3])**(1/2)\n",
    "\n",
    "model.objective = pyo.Objective(rule=QLinearUtility, sense=-1)\n",
    "model.BC = pyo.Constraint(rule=BudgetConstraint)\n",
    "results = opt.solve(model)"
   ]
  },
  {
   "cell_type": "code",
   "execution_count": 14,
   "metadata": {},
   "outputs": [
    {
     "name": "stdout",
     "output_type": "stream",
     "text": [
      "Optimal x1 is 3.1099 optimal x2 is 1.8901 optimal x3 is 1.8901\n"
     ]
    }
   ],
   "source": [
    "x1 = np.round(model.x[1].value, 4) ### enough to round off any tolerance errors\n",
    "x2 = np.round(model.x[2].value, 4)\n",
    "x3 = np.round(model.x[3].value, 4)\n",
    "\n",
    "print(\"Optimal x1 is\",x1,\"optimal x2 is\",x2,\"optimal x3 is\",x3)"
   ]
  },
  {
   "cell_type": "markdown",
   "metadata": {},
   "source": [
    "Notice that in order to change a few parameters and functional forms, we had to create a whole new model. However, Pyomo provides another class which makes changing data quite a bit easier."
   ]
  },
  {
   "cell_type": "code",
   "execution_count": 191,
   "metadata": {},
   "outputs": [],
   "source": [
    "N =  3\n",
    "model = pyo.AbstractModel()\n",
    "\n",
    "model.N = pyo.Param()\n",
    "model.i = pyo.RangeSet(1, model.N)\n",
    "model.p = pyo.Param(model.i,within=pyo.PositiveReals)\n",
    "model.x = pyo.Var(model.i,within=pyo.PositiveReals,initialize=1.0)\n",
    "model.w = pyo.Param(default=10)\n",
    "\n",
    "model.objective = pyo.Objective(rule=QLinearUtility, sense=-1)\n",
    "model.BC = pyo.Constraint(rule=BudgetConstraint)"
   ]
  },
  {
   "cell_type": "markdown",
   "metadata": {},
   "source": [
    "Note that the above code is fairly similar to before, except for that we haven't defined any data at the time of creation. To do so, we create an instance which will read from a Python dict of the following form:"
   ]
  },
  {
   "cell_type": "code",
   "execution_count": 192,
   "metadata": {},
   "outputs": [],
   "source": [
    "data = {None: {\n",
    "    'N':{None: 3},\n",
    "    'p':{1:2,2:1,3:1}\n",
    "}}\n",
    "instance = model.create_instance(data)\n",
    "results = opt.solve(instance) ### for more information on solver output, use tee=True"
   ]
  },
  {
   "cell_type": "markdown",
   "metadata": {},
   "source": [
    "One difference worth noting is that the variable values are now stored in ```instance```. Above, I have overwritten the default value for N to 3, but left alpha and w undefined, as the default value of 10 is fine. By using the initialize and default args above, we can use the AbstractModel() class very similarly to a ConcreteModel(), with the difference being that we need to create an instance first before solving with an AbstractModel(). "
   ]
  },
  {
   "cell_type": "code",
   "execution_count": 193,
   "metadata": {},
   "outputs": [
    {
     "name": "stdout",
     "output_type": "stream",
     "text": [
      "Optimal x1 is 3.1099 optimal x2 is 1.8901 optimal x3 is 1.8901\n"
     ]
    }
   ],
   "source": [
    "x1 = np.round(instance.x[1].value, 4) ### enough to round off any tolerance errors\n",
    "x2 = np.round(instance.x[2].value, 4)\n",
    "x3 = np.round(instance.x[3].value, 4)\n",
    "\n",
    "print(\"Optimal x1 is\",x1,\"optimal x2 is\",x2,\"optimal x3 is\",x3)"
   ]
  },
  {
   "cell_type": "markdown",
   "metadata": {},
   "source": [
    "Suppose we again wanted to change the utility function back to Cobb Douglas and change prices to $\\hat{p}=(1,1,1)$, then we would simply run:"
   ]
  },
  {
   "cell_type": "code",
   "execution_count": 194,
   "metadata": {},
   "outputs": [
    {
     "name": "stdout",
     "output_type": "stream",
     "text": [
      "Optimal x1 is 3.3333 optimal x2 is 3.3333 optimal x3 is 3.3333\n"
     ]
    }
   ],
   "source": [
    "model.del_component(model.w) ### There's no need to delete w here, I'm just showing how you can\n",
    "model.objective.deactivate() ### deactivate old objective function which is q-linear\n",
    "\n",
    "model.w = pyo.Param(default=10)\n",
    "model.alpha = pyo.Param(model.i,within=pyo.NonNegativeReals,default=1.0/N)\n",
    "model.new_objective = pyo.Objective(rule=CobbDouglasUtility, sense=-1)\n",
    "\n",
    "data[None]['p']={1: 1, 2: 1, 3: 1} ### change prices in dict\n",
    "instance = model.create_instance(data)\n",
    "results = opt.solve(instance) \n",
    "\n",
    "x1 = np.round(instance.x[1].value, 4) ### enough to round off any tolerance errors\n",
    "x2 = np.round(instance.x[2].value, 4)\n",
    "x3 = np.round(instance.x[3].value, 4)\n",
    "\n",
    "print(\"Optimal x1 is\",x1,\"optimal x2 is\",x2,\"optimal x3 is\",x3)"
   ]
  },
  {
   "cell_type": "markdown",
   "metadata": {},
   "source": [
    "### Problem 2. Solving for parameter values of a workhorse trade model (the Armington model)\n",
    "\n",
    "Consider the following setup: There are $1,\\dots,N$ countries in the world. Consumers in each country consume a varieties of a traded good using CES demand an with elasticity of substitution over goods denoted $\\sigma$. Labor is the only factor of production which is inelastically supplied and assumed to be immobile. Trade between countries is costly (iceberg trade costs between i and j are denoted $\\tau_{ji} \\geq 1$ ) and the no-arbitrade condition applies, meaning that if $p_j$ is the price of a good in country $j$ and $p_{ji}$ is the price of country $j$'s output in country $i$, then we must have that $p_{ji}=\\tau_{ji} p_j$. Each country produces a different variety of the good, known as the Armington assumption. Locations are characterized by productivities/marginal products of labor $A_i$. \n",
    "\n",
    "The main equation that defines the equilibrium of the Armington model is the goods market clearing condtion, or more simply that income = expenditures:\n",
    "\\begin{equation}\n",
    "w_iL_i = \\sum_{j=1}^N w_jL_j \\pi_{ji},\n",
    "\\end{equation}\n",
    "where $\\pi_{ji}$ is the share of expenditure country $i$ spends on goods from country $j$. In short, this basically says that consumer spending on goods from different countries (the RHS) cannot exceed their income (the LHS), for all countries $i$.\n",
    "\n",
    "CES demand tells us that the share of expenditure country $i$ spends on goods from country $j$ is given by\n",
    "$\\pi_{ji} =X_{ji}/Y_i= p_{ji}^{1-\\sigma} P_i^{\\sigma-1}$, where $P_i^{1-\\sigma}=\\sum_l p_{li}^{1-\\sigma}$. But if production of each good in each country is perfectly competitive, then $p_i=w_i/A_i$. Therefore, the price in country $i$ of consuming one unit from country $j$ is:\n",
    "$p_{ji}=\\tau_{ji}\\frac{w_j}{A_j}$. Therefore, $$\\pi_{ji}= \\frac{\\left(\\tau_{ji}\\frac{w_j}{A_j}\\right)^{1-\\sigma}}{\\sum_l \\left(\\tau_{li}\\frac{w_l}{A_l}\\right)^{1-\\sigma}}.$$\n",
    "\n",
    "#### (Jump to here if you only care about the objective statement) This implies that the main equilibrium clearing condition is given by \n",
    "\\begin{equation}\n",
    "w_iL_i = \\sum_{j=1}^N w_jL_j\\frac{\\left(\\tau_{ji}\\frac{w_j}{A_j}\\right)^{1-\\sigma}}{\\sum_l \\left(\\tau_{li}\\frac{w_l}{A_l}\\right)^{1-\\sigma}}, \\forall i=1,\\dots,N.\n",
    "\\end{equation}\n",
    "\n",
    "Reformulating this for simplicity (which greatly helps in computation), we obtain\n",
    "\n",
    "$$w_iL_iP_i^{1-\\sigma} = \\sum_{j=1}^N w_jL_j \\left(\\tau_{ji}\\frac{w_j}{A_j} \\right)^{1-\\sigma}, \\forall i=1,\\dots,N,$$\n",
    "\n",
    "with $P_i^{1-\\sigma}=\\sum_l \\left(\\tau_{li}\\frac{w_l}{A_l}\\right)^{1-\\sigma}$.\n",
    "Suppose we have information on the wages of workers in each country ($w_i$) and its total population stock ($L_i$), as well as the trade costs between each country pair ($\\tau_{ji}$) and the elasticity of substitution ($\\sigma=6$), but we don't know the productivities of each country $A_i$. The equilibrium clearing condition above provides us $N$ equations (i.e. one market clearing condition for each country $i$), which should be sufficient to solve for the N unknowns $A_1, \\dots, A_N$. But, you'll notice that $A_1, \\dots, A_N$ do not admit a closed form solution, and so we need to solve for these values using numerical optimization. These values will $\\textbf{not}$ be unique, but they will be unique up to scale, so we can set the sum of the productivities equal to a normalizing constant (the choice of this will be important).\n",
    "\n",
    "I've skipped alot of details because they're not really important here. But for more information on the setup of this model, see here:\n",
    "https://scholar.princeton.edu/sites/default/files/zidar/files/connecting_theory_empirics_allen_gravity.pdf"
   ]
  },
  {
   "cell_type": "code",
   "execution_count": null,
   "metadata": {},
   "outputs": [],
   "source": [
    "sum_productivities = 1000.0 ### You might need to tweak this up/down to achieve convergence\n",
    "productivity_initial_guess = 5.0 ### Same here\n",
    "model = pyo.AbstractModel()\n",
    "\n",
    "model.i = pyo.Set()\n",
    "model.w = pyo.Param(model.i)\n",
    "model.L = pyo.Param(model.i)\n",
    "model.tau = pyo.Param(model.i,model.i)\n",
    "model.A = pyo.Var(model.i,domain=pyo.NonNegativeReals, initialize=productivity_initial_guess)\n",
    "model.sigma = 6.0"
   ]
  },
  {
   "cell_type": "markdown",
   "metadata": {},
   "source": [
    "Notice how above I make an initial guess for the $A_i$s of 5. This is really important to point out -- the choice of initial values in nonlinear problems will matter alot. Note that if an initial value (given by initialize or default) is not provided, Pyomo will start by assuming the value is zero, which here will cause there to be zeros the denominators of our problem.\n",
    "\n",
    "From Hart et al., <a href=\"https://link.springer.com/content/pdf/10.1007/978-3-319-58821-6.pdf\">Pyomo Optimization Modeling in Python</a>, regarding nonlinear programming problems: \"\"\"For the general nonconvex case, nonlinear programming problems can, and often do, have multiple local solutions. While academic and commercial solvers do exist that are mathematically guaranteed to find the global solution of a nonlinear programming problem, large problems cannot be solved by state-of-the-art solvers. Consequently, one is often forced to employ a solver that only provides a guarantee of local optimality, for which it is often critical to initialize the problem near the desired local solution.\"\"\"\n",
    "\n",
    "I don't have any advice here to give, other than to say that you will have to mess around -- sometimes the model will converge for certain initial values, but not others. Other times, you will simply achieve convergence much faster. While writing this workshop, I started with 1000 as my initial guess for $A_i$, but convergence took a while. You'll note that the solver at the end of the workshop gets hung up on a local solution, but ultimately you will need to decide whether or not the local solution makes sense, or whether it is likely to be the global solution -- the solver will not give you this guidance."
   ]
  },
  {
   "cell_type": "code",
   "execution_count": 2,
   "metadata": {},
   "outputs": [],
   "source": [
    "def p_ji(model,j,i):\n",
    "    return (model.tau[j,i]*model.w[j]/model.A[j])**(1-model.sigma)\n",
    "    \n",
    "def Pi(model,i):    \n",
    "    return sum((model.tau[l,i]*model.w[l]/model.A[l])**(1-model.sigma) for l in model.i)\n",
    "\n",
    "def goods_market_clearing(model):\n",
    "    return sum((model.w[i]*model.L[i]*Pi(model,i)-sum(model.w[j]*model.L[j]*p_ji(model,j,i) for j in model.i))**2.0 for i in model.i)\n",
    "\n",
    "def goods_market_clearing_one_good_hold(model,i):\n",
    "    return(model.w[i]*model.L[i]*Pi(model,i)==sum(model.w[j]*model.L[j]*p_ji(model,j,i) for j in model.i))\n",
    "\n",
    "def productivity_sum(model):\n",
    "    return(sum([model.A[i] for i in model.i])==sum_productivities)\n",
    "\n",
    "model.objective = pyo.Objective(rule=goods_market_clearing, sense=1) ### sense = 1 means minimize\n",
    "model.a_fix = pyo.Constraint(rule=productivity_sum)\n",
    "model.one_good_fix = pyo.Constraint(model.i,rule=goods_market_clearing_one_good_hold) ### imposes constraint for all goods"
   ]
  },
  {
   "cell_type": "markdown",
   "metadata": {},
   "source": [
    "What if your data (i.e. parameter values) is stored in a csv file? Read https://pyomo.readthedocs.io/en/stable/working_abstractmodels/data/dataportals.html for more info, but an example is provided below using the two csv files \"wages_pop.csv\" and \"tau.csv\""
   ]
  },
  {
   "cell_type": "code",
   "execution_count": 3,
   "metadata": {},
   "outputs": [],
   "source": [
    "data = pyo.DataPortal()\n",
    "data.load(filename='wages_pop.csv', param=(model.w,model.L), index=model.i)\n",
    "data.load(filename='tau.csv', param=model.tau, format='array')\n",
    "instance = model.create_instance(data)"
   ]
  },
  {
   "cell_type": "markdown",
   "metadata": {},
   "source": [
    "To begin, let's try deactivating all of the constraints that trade must be balanced in each market and try solving the model."
   ]
  },
  {
   "cell_type": "code",
   "execution_count": 8,
   "metadata": {},
   "outputs": [
    {
     "name": "stdout",
     "output_type": "stream",
     "text": [
      "Ipopt 3.13.2: \n",
      "\n",
      "******************************************************************************\n",
      "This program contains Ipopt, a library for large-scale nonlinear optimization.\n",
      " Ipopt is released as open source code under the Eclipse Public License (EPL).\n",
      "         For more information visit http://projects.coin-or.org/Ipopt\n",
      "******************************************************************************\n",
      "\n",
      "This is Ipopt version 3.13.2, running with linear solver mumps.\n",
      "NOTE: Other linear solvers might be more efficient (see Ipopt documentation).\n",
      "\n",
      "Number of nonzeros in equality constraint Jacobian...:      200\n",
      "Number of nonzeros in inequality constraint Jacobian.:        0\n",
      "Number of nonzeros in Lagrangian Hessian.............:    20100\n",
      "\n",
      "Total number of variables............................:      200\n",
      "                     variables with only lower bounds:      200\n",
      "                variables with lower and upper bounds:        0\n",
      "                     variables with only upper bounds:        0\n",
      "Total number of equality constraints.................:        1\n",
      "Total number of inequality constraints...............:        0\n",
      "        inequality constraints with only lower bounds:        0\n",
      "   inequality constraints with lower and upper bounds:        0\n",
      "        inequality constraints with only upper bounds:        0\n",
      "\n",
      "iter    objective    inf_pr   inf_du lg(mu)  ||d||  lg(rg) alpha_du alpha_pr  ls\n",
      "   0  1.9869253e+03 1.14e-13 7.82e-10  -1.0 0.00e+00    -  0.00e+00 0.00e+00   0\n",
      "   1  1.9869255e+03 3.41e-13 1.52e-03  -1.0 1.71e-03    -  9.98e-01 1.00e+00f  1\n",
      "   2  1.9869253e+03 1.14e-13 1.95e-05  -2.5 1.66e-03    -  1.00e+00 1.00e+00f  1\n",
      "   3  1.9869253e+03 5.68e-13 1.50e-08  -3.8 4.62e-05    -  1.00e+00 1.00e+00h  1\n",
      "   4  1.9869253e+03 3.41e-13 2.84e-11  -5.7 2.57e-06    -  1.00e+00 1.00e+00h  1\n",
      "   5  1.9869253e+03 1.14e-13 6.65e-14  -8.6 3.18e-08    -  1.00e+00 1.00e+00H  1\n",
      "\n",
      "Number of Iterations....: 5\n",
      "\n",
      "                                   (scaled)                 (unscaled)\n",
      "Objective...............:   1.9869253349838593e+03    1.9869253349838593e+03\n",
      "Dual infeasibility......:   6.6544961491222420e-14    6.6544961491222420e-14\n",
      "Constraint violation....:   1.1368683772161603e-13    1.1368683772161603e-13\n",
      "Complementarity.........:   2.5059172516579734e-09    2.5059172516579734e-09\n",
      "Overall NLP error.......:   2.5059172516579734e-09    2.5059172516579734e-09\n",
      "\n",
      "\n",
      "Number of objective function evaluations             = 7\n",
      "Number of objective gradient evaluations             = 6\n",
      "Number of equality constraint evaluations            = 7\n",
      "Number of inequality constraint evaluations          = 0\n",
      "Number of equality constraint Jacobian evaluations   = 6\n",
      "Number of inequality constraint Jacobian evaluations = 0\n",
      "Number of Lagrangian Hessian evaluations             = 5\n",
      "Total CPU secs in IPOPT (w/o function evaluations)   =      0.260\n",
      "Total CPU secs in NLP function evaluations           =      1.404\n",
      "\n",
      "EXIT: Optimal Solution Found.\n"
     ]
    }
   ],
   "source": [
    "for i in range(1,201): \n",
    "      instance.one_good_fix[i].deactivate()\n",
    "results = opt.solve(instance,tee=True)"
   ]
  },
  {
   "cell_type": "markdown",
   "metadata": {},
   "source": [
    "This results in finding an \"optimal solution\", but notice that the resulting objective function here is still quite large. "
   ]
  },
  {
   "cell_type": "code",
   "execution_count": 7,
   "metadata": {},
   "outputs": [
    {
     "data": {
      "text/plain": [
       "1986.9253349838589"
      ]
     },
     "execution_count": 7,
     "metadata": {},
     "output_type": "execute_result"
    }
   ],
   "source": [
    "instance.objective()"
   ]
  },
  {
   "cell_type": "markdown",
   "metadata": {},
   "source": [
    "In general, we can do a lot better when we add back in those trade balance constraints. While messing around with constraints, you may also be tempted to relax the constraint ```model.a_fix```, which will yield a lower objective function -- but notice that doing this yields variable solutions that we do not want, as the solver will simply choose very small values of $A$ in order to minimize the objective function. This shows the importance of double checking your solution values to see if they make intuitive sense."
   ]
  },
  {
   "cell_type": "code",
   "execution_count": 9,
   "metadata": {},
   "outputs": [],
   "source": [
    "### Lets re-activate those constraints\n",
    "for i in range(1,201): \n",
    "      instance.one_good_fix[i].activate()"
   ]
  },
  {
   "cell_type": "markdown",
   "metadata": {},
   "source": [
    "To solve problems like this, I find that it is necessary to run the solver mutliple times, until the solver reaches a point at which the objective function is sufficiently small (how small is sufficiently small depends on the problem of interest). Often times you will need to restart the algorithm using the solution values reached by a prior run, which can be done simply by running ```opt.solve(instance)``` without redefining the instance. As such, be prepared that you will need to run the code block below potentially several times. I find that it eventually converges to a point of local infeasibility (with an objective of 9.4329010e+02), but at this level, the solution is good enough."
   ]
  },
  {
   "cell_type": "code",
   "execution_count": 10,
   "metadata": {
    "scrolled": true
   },
   "outputs": [
    {
     "name": "stdout",
     "output_type": "stream",
     "text": [
      "Ipopt 3.13.2: max_iter=200\n",
      "\n",
      "\n",
      "******************************************************************************\n",
      "This program contains Ipopt, a library for large-scale nonlinear optimization.\n",
      " Ipopt is released as open source code under the Eclipse Public License (EPL).\n",
      "         For more information visit http://projects.coin-or.org/Ipopt\n",
      "******************************************************************************\n",
      "\n",
      "This is Ipopt version 3.13.2, running with linear solver mumps.\n",
      "NOTE: Other linear solvers might be more efficient (see Ipopt documentation).\n",
      "\n",
      "Number of nonzeros in equality constraint Jacobian...:    39800\n",
      "Number of nonzeros in inequality constraint Jacobian.:        0\n",
      "Number of nonzeros in Lagrangian Hessian.............:    20100\n",
      "\n",
      "Total number of variables............................:      200\n",
      "                     variables with only lower bounds:      200\n",
      "                variables with lower and upper bounds:        0\n",
      "                     variables with only upper bounds:        0\n",
      "Total number of equality constraints.................:      199\n",
      "Total number of inequality constraints...............:        0\n",
      "        inequality constraints with only lower bounds:        0\n",
      "   inequality constraints with lower and upper bounds:        0\n",
      "        inequality constraints with only upper bounds:        0\n",
      "\n",
      "iter    objective    inf_pr   inf_du lg(mu)  ||d||  lg(rg) alpha_du alpha_pr  ls\n",
      "   0  1.9869253e+03 2.16e+01 6.17e-11  -1.0 0.00e+00    -  0.00e+00 0.00e+00   0\n",
      "   1r 1.9869253e+03 2.16e+01 9.99e+02   1.3 0.00e+00    -  0.00e+00 1.93e-07R  2\n",
      "   2r 4.0697850e+03 4.91e+01 9.88e+02   1.3 8.40e+02    -  9.38e-03 1.10e-02f  1\n",
      "   3r 2.4457155e+03 3.27e+01 9.72e+02   0.6 1.52e+03    -  7.57e-03 1.64e-02f  1\n",
      "   4r 2.3009846e+03 3.05e+01 9.76e+02   0.6 2.24e+02    -  1.89e-02 9.49e-03f  1\n",
      "   5r 2.1819565e+03 2.82e+01 9.59e+02   0.6 9.62e+01    -  3.80e-02 2.03e-02f  1\n",
      "   6r 2.1477193e+03 2.72e+01 1.23e+03   0.6 1.32e+01    -  7.15e-03 3.02e-02f  1\n",
      "   7r 2.1444669e+03 2.72e+01 1.23e+03   0.6 1.74e+01    -  3.22e-02 3.44e-03f  1\n",
      "   8r 2.1399366e+03 2.69e+01 1.21e+03   0.6 1.93e+01    -  2.78e-03 1.40e-02f  1\n",
      "   9r 2.1385222e+03 2.68e+01 1.20e+03   0.6 1.19e+01    -  3.44e-02 6.03e-03f  1\n",
      "iter    objective    inf_pr   inf_du lg(mu)  ||d||  lg(rg) alpha_du alpha_pr  ls\n",
      "  10r 2.1381322e+03 2.66e+01 1.19e+03   0.6 1.30e+01    -  7.74e-03 1.54e-02f  1\n",
      "  11r 2.1361628e+03 2.65e+01 1.17e+03   0.6 1.58e+01    -  4.23e-02 1.17e-02h  1\n",
      "  12r 2.1370875e+03 2.64e+01 1.15e+03   0.6 1.82e+01    -  1.64e-02 1.86e-02h  1\n",
      "  13r 2.1452956e+03 2.63e+01 1.31e+03   0.6 2.05e+01    -  1.79e-02 3.70e-02h  1\n",
      "  14r 2.1470298e+03 2.62e+01 1.30e+03   0.6 1.51e+01    -  2.34e-02 7.11e-03f  1\n",
      "  15r 2.1530269e+03 2.60e+01 1.26e+03   0.6 1.57e+01    -  8.70e-02 2.85e-02h  1\n",
      "  16r 2.1595231e+03 2.60e+01 1.22e+03   0.6 2.17e+01    -  2.30e-02 3.06e-02h  1\n",
      "  17r 2.1754083e+03 2.60e+01 1.16e+03   0.6 2.16e+01    -  2.61e-02 5.11e-02h  1\n",
      "  18r 2.1773683e+03 2.60e+01 1.14e+03   0.6 1.84e+01    -  4.80e-02 1.47e-02h  1\n",
      "  19r 2.1942324e+03 2.59e+01 1.09e+03   0.6 1.85e+01    -  3.08e-02 5.18e-02h  1\n",
      "iter    objective    inf_pr   inf_du lg(mu)  ||d||  lg(rg) alpha_du alpha_pr  ls\n",
      "  20r 2.1982036e+03 2.59e+01 1.05e+03   0.6 1.77e+01    -  6.44e-02 3.33e-02h  1\n",
      "  21r 2.2230821e+03 2.59e+01 9.75e+02   0.6 1.87e+01    -  4.77e-02 7.12e-02h  1\n",
      "  22r 2.2301244e+03 2.59e+01 9.40e+02   0.6 1.76e+01    -  1.16e-01 3.60e-02h  1\n",
      "  23r 2.2479450e+03 2.59e+01 8.67e+02   0.6 1.70e+01    -  1.24e-01 7.78e-02h  1\n",
      "  24r 2.3060635e+03 2.62e+01 1.58e+03   0.6 1.62e+01    -  8.69e-02 2.44e-01h  1\n",
      "  25r 2.3507766e+03 2.64e+01 1.28e+03   0.6 1.24e+01    -  1.49e-01 1.93e-01h  1\n",
      "  26r 1.3285072e+03 6.05e+01 5.00e+03   0.6 6.17e+01    -  3.75e-03 9.77e-01h  1\n",
      "  27r 9.6741778e+02 8.98e+01 4.61e+01   0.6 2.93e+01    -  7.65e-01 1.00e+00h  1\n",
      "  28r 9.4595368e+02 9.19e+01 2.78e+01  -0.8 2.41e+00    -  9.99e-01 8.83e-01h  1\n",
      "  29r 9.4345265e+02 9.22e+01 1.50e-02  -0.8 3.26e-01    -  1.00e+00 1.00e+00h  1\n",
      "iter    objective    inf_pr   inf_du lg(mu)  ||d||  lg(rg) alpha_du alpha_pr  ls\n",
      "  30r 9.4331212e+02 9.23e+01 2.25e+00  -3.3 5.06e-02    -  9.94e-01 9.64e-01f  1\n",
      "  31r 9.4329273e+02 9.23e+01 3.23e-05  -3.3 9.37e-03    -  1.00e+00 1.00e+00f  1\n",
      "  32r 9.4329305e+02 9.23e+01 7.66e-03  -4.9 1.49e-04    -  1.00e+00 1.00e+00f  1\n",
      "  33r 9.4329056e+02 9.23e+01 2.19e-08  -4.9 3.68e-04    -  1.00e+00 1.00e+00h  1\n",
      "  34r 9.4329054e+02 9.23e+01 1.28e-03  -7.4 3.42e-06    -  1.00e+00 1.00e+00f  1\n",
      "\n",
      "Number of Iterations....: 34\n",
      "\n",
      "                                   (scaled)                 (unscaled)\n",
      "Objective...............:   9.4329012771569819e+02    9.4329012771569819e+02\n",
      "Dual infeasibility......:   1.8556545636314148e+01    1.8556545636314148e+01\n",
      "Constraint violation....:   9.2299862898402807e+01    9.2299862898402807e+01\n",
      "Complementarity.........:   3.9734091922025800e-08    3.9734091922025800e-08\n",
      "Overall NLP error.......:   9.2299862898402807e+01    9.2299862898402807e+01\n",
      "\n",
      "\n",
      "Number of objective function evaluations             = 39\n",
      "Number of objective gradient evaluations             = 3\n",
      "Number of equality constraint evaluations            = 39\n",
      "Number of inequality constraint evaluations          = 0\n",
      "Number of equality constraint Jacobian evaluations   = 37\n",
      "Number of inequality constraint Jacobian evaluations = 0\n",
      "Number of Lagrangian Hessian evaluations             = 35\n",
      "Total CPU secs in IPOPT (w/o function evaluations)   =      2.453\n",
      "Total CPU secs in NLP function evaluations           =      8.691\n",
      "\n",
      "EXIT: Converged to a point of local infeasibility. Problem may be infeasible.\n",
      "WARNING: Loading a SolverResults object with a warning status into\n",
      "    model=unknown;\n",
      "        message from solver=Ipopt 3.13.2\\x3a Converged to a locally infeasible\n",
      "        point. Problem may be infeasible.\n"
     ]
    }
   ],
   "source": [
    "opt.options['max_iter'] = 200 ### You can set this as you like, I find sometimes restarting the solver \n",
    "### yields quicker results, but too few iterations can cause the solver to hang up on a bad local solution\n",
    "\n",
    "### Our objective function is defined as the squared sum of all lhs and rhs errors\n",
    "### And our constraints are simply that the lhs and rhs equal for each i\n",
    "### However, by Walras' law, one market is solved automatically, and objective acts as solving one market,\n",
    "### so we need to omit two market constraints\n",
    "for i in range(1,3): \n",
    "      instance.one_good_fix[i].deactivate()\n",
    "results = opt.solve(instance,tee=True)"
   ]
  },
  {
   "cell_type": "markdown",
   "metadata": {},
   "source": [
    "Now let's display retrieved solutions by looping over all variable values:"
   ]
  },
  {
   "cell_type": "code",
   "execution_count": 11,
   "metadata": {},
   "outputs": [
    {
     "name": "stdout",
     "output_type": "stream",
     "text": [
      "4.762\n",
      "3.157\n",
      "5.259\n",
      "4.693\n",
      "4.762\n",
      "3.394\n",
      "4.292\n",
      "6.103\n",
      "3.248\n",
      "3.995\n",
      "4.603\n",
      "3.763\n",
      "4.646\n",
      "3.131\n",
      "5.45\n",
      "4.909\n",
      "4.515\n",
      "4.789\n",
      "4.345\n",
      "4.989\n",
      "5.839\n",
      "4.779\n",
      "6.853\n",
      "5.957\n",
      "4.725\n",
      "3.837\n",
      "3.584\n",
      "5.108\n",
      "4.061\n",
      "4.658\n",
      "4.714\n",
      "4.338\n",
      "3.935\n",
      "3.3\n",
      "4.739\n",
      "4.457\n",
      "5.008\n",
      "4.437\n",
      "4.957\n",
      "4.007\n",
      "4.797\n",
      "3.675\n",
      "4.256\n",
      "4.659\n",
      "4.18\n",
      "4.395\n",
      "4.786\n",
      "2.885\n",
      "6.555\n",
      "6.346\n",
      "4.05\n",
      "5.257\n",
      "3.019\n",
      "3.515\n",
      "4.101\n",
      "4.69\n",
      "4.263\n",
      "3.194\n",
      "3.509\n",
      "4.884\n",
      "4.773\n",
      "3.227\n",
      "4.304\n",
      "3.977\n",
      "3.62\n",
      "5.629\n",
      "4.093\n",
      "4.709\n",
      "5.066\n",
      "6.499\n",
      "3.484\n",
      "4.652\n",
      "5.546\n",
      "4.733\n",
      "4.348\n",
      "5.524\n",
      "4.137\n",
      "3.383\n",
      "3.186\n",
      "4.269\n",
      "3.919\n",
      "4.817\n",
      "4.791\n",
      "3.169\n",
      "4.316\n",
      "4.297\n",
      "3.335\n",
      "4.268\n",
      "4.509\n",
      "4.569\n",
      "4.86\n",
      "4.841\n",
      "3.311\n",
      "4.481\n",
      "3.561\n",
      "4.158\n",
      "2.398\n",
      "5.915\n",
      "1.812\n",
      "3.661\n",
      "4.603\n",
      "2.335\n",
      "3.817\n",
      "4.967\n",
      "5.556\n",
      "3.653\n",
      "3.295\n",
      "4.012\n",
      "4.827\n",
      "4.53\n",
      "3.196\n",
      "5.159\n",
      "6.401\n",
      "4.649\n",
      "4.541\n",
      "4.543\n",
      "2.567\n",
      "4.653\n",
      "4.56\n",
      "4.702\n",
      "5.462\n",
      "5.213\n",
      "4.227\n",
      "6.328\n",
      "3.922\n",
      "3.761\n",
      "5.913\n",
      "4.628\n",
      "3.603\n",
      "4.675\n",
      "5.148\n",
      "4.967\n",
      "3.828\n",
      "5.373\n",
      "2.864\n",
      "5.679\n",
      "6.393\n",
      "5.009\n",
      "5.985\n",
      "5.067\n",
      "3.146\n",
      "4.917\n",
      "4.613\n",
      "4.702\n",
      "3.785\n",
      "4.77\n",
      "4.672\n",
      "3.896\n",
      "4.499\n",
      "4.65\n",
      "3.669\n",
      "5.502\n",
      "6.297\n",
      "8.912\n",
      "4.8\n",
      "6.309\n",
      "4.533\n",
      "5.457\n",
      "5.153\n",
      "3.816\n",
      "6.329\n",
      "4.862\n",
      "4.764\n",
      "3.854\n",
      "4.22\n",
      "4.665\n",
      "3.494\n",
      "4.073\n",
      "3.617\n",
      "4.903\n",
      "4.281\n",
      "4.399\n",
      "4.299\n",
      "8.627\n",
      "3.381\n",
      "4.075\n",
      "3.603\n",
      "4.172\n",
      "4.728\n",
      "2.642\n",
      "6.016\n",
      "4.509\n",
      "5.34\n",
      "5.143\n",
      "4.179\n",
      "4.71\n",
      "3.314\n",
      "4.004\n",
      "6.001\n",
      "3.585\n",
      "3.787\n",
      "5.07\n",
      "4.004\n",
      "3.552\n",
      "3.641\n",
      "6.906\n",
      "4.074\n",
      "10.086\n",
      "5.414\n",
      "3.399\n"
     ]
    }
   ],
   "source": [
    "for i in range(1,200+1):\n",
    "    print(np.round(instance.A[i].value,3))\n",
    "### If you converge to where I do, first+second values should be 4.762 + 3.157"
   ]
  },
  {
   "cell_type": "markdown",
   "metadata": {},
   "source": [
    "Now, let's check what these implied productivities yield for trade balances for each country and if we think that they are good enough."
   ]
  },
  {
   "cell_type": "code",
   "execution_count": 12,
   "metadata": {},
   "outputs": [],
   "source": [
    "### Redefine these functions to take stored parameter values as arguments, rather than the model class\n",
    "def p_ji_check(j,i):\n",
    "    return (tau[j,i]*w[j]/A[j])**(-5.0)\n",
    "    \n",
    "def Pi_check(i):    \n",
    "    return sum((tau[l,i]*w[l]/A[l])**(-5.0) for l in iso3)\n",
    "\n",
    "def trade_balance(i):\n",
    "    return instance.w[i]*instance.L[i]*Pi_check(i)-sum([w[j]*L[j]*p_ji_check(j,i) for j in iso3])\n",
    "\n",
    "### Save stored parameter values to dictionaries\n",
    "w,L,tau,A = {},{},{},{}\n",
    "iso3 = list(range(1,201))\n",
    "for i in iso3:\n",
    "    w[i] = instance.w[i]\n",
    "    L[i] = instance.L[i]\n",
    "    A[i] = instance.A[i].value\n",
    "    for j in iso3:\n",
    "        tau[i,j] = instance.tau[i,j]"
   ]
  },
  {
   "cell_type": "markdown",
   "metadata": {},
   "source": [
    "Now let's loop over all trade balances for each country."
   ]
  },
  {
   "cell_type": "code",
   "execution_count": 13,
   "metadata": {},
   "outputs": [
    {
     "name": "stdout",
     "output_type": "stream",
     "text": [
      "-0.0016460728510244715\n",
      "-0.5303127686880127\n",
      "0.15084406400446104\n",
      "0.06428929409501505\n",
      "0.06718743766050861\n",
      "-0.6129938962813982\n",
      "-0.39789020868038183\n",
      "-0.2927348878956712\n",
      "-0.3933787815665296\n",
      "4.641834204731584\n",
      "-0.44984761075217\n",
      "-0.2568725690794877\n",
      "0.9954279443252648\n",
      "-0.15744580357394283\n",
      "2.689587186718612\n",
      "0.0755165938338711\n",
      "-0.30370316752036325\n",
      "-0.5461099954089141\n",
      "-0.3446186278857986\n",
      "0.28618823406504423\n",
      "-0.42791187821556487\n",
      "-0.08430386980993337\n",
      "3.028835323981089\n",
      "-0.36921925395302074\n",
      "0.21462107571586364\n",
      "-0.3571126633747228\n",
      "-0.215387465576108\n",
      "-0.4588521021218535\n",
      "-0.5223105323564288\n",
      "-0.1628579393039245\n",
      "0.6893533767131833\n",
      "-0.21489850932933136\n",
      "11.463947239671642\n",
      "-0.41203732836090795\n",
      "1.2973915091048585\n",
      "1.33138642266659\n",
      "-0.09876626691029866\n",
      "-0.5741400522813354\n",
      "0.026082637695796995\n",
      "-0.44110369775455205\n",
      "1.2952822833740498\n",
      "-0.34306859438255344\n",
      "6.547479276123892\n",
      "-0.3319455959003351\n",
      "0.0726116224108585\n",
      "-0.4484288530040106\n",
      "-0.6314332496441288\n",
      "-0.3867037344927697\n",
      "1.4632720813253453\n",
      "-0.0407114663964252\n",
      "4.109532133137278\n",
      "-0.17899388955372375\n",
      "-0.17489503882941881\n",
      "-0.5146825885318362\n",
      "-0.2873605511707782\n",
      "-0.2984703498753242\n",
      "-0.38097458365857856\n",
      "-0.4133664641800782\n",
      "-0.35367099759814735\n",
      "-0.4225213803302107\n",
      "-0.23609320147510154\n",
      "-0.06913577810575644\n",
      "-0.4407824934635672\n",
      "-0.03461536581670732\n",
      "-0.5074565194449548\n",
      "-0.27366656469607176\n",
      "-0.0964785000026287\n",
      "-0.18371618404976336\n",
      "-0.13849595768723355\n",
      "0.8723966917853152\n",
      "-0.3929704951255392\n",
      "6.202930425347828\n",
      "-0.24809622558358918\n",
      "1.1834765470841981\n",
      "-0.2258406597939892\n",
      "-0.4331650847673516\n",
      "-0.5697433254656863\n",
      "-0.4987293063067459\n",
      "-0.5491414109120583\n",
      "-0.4147605863181975\n",
      "-0.6066930106115129\n",
      "1.3838177638715035\n",
      "-0.3144280313978787\n",
      "-0.49501106135901446\n",
      "-0.051555404913945224\n",
      "-0.5229158328279888\n",
      "-0.28363305054330384\n",
      "-0.21294775036891905\n",
      "-0.25755321556839406\n",
      "1.2163023416095182\n",
      "-0.26360997963596455\n",
      "-0.003254679465243715\n",
      "13.157670338630789\n",
      "0.557920985401658\n",
      "-0.4636726908528589\n",
      "-0.3822055703847931\n",
      "-0.6407320525635903\n",
      "-0.024398990503627482\n",
      "-0.30387260878400324\n",
      "-0.4140849527854544\n",
      "0.5302486710161143\n",
      "-0.5792336245136789\n",
      "3.0004575803061075\n",
      "1.1058521857337988\n",
      "3.5911061010315697\n",
      "-0.3130865527686631\n",
      "-0.3383271268071255\n",
      "-0.4398392770135596\n",
      "-0.5581050407444756\n",
      "-0.3192281053887291\n",
      "-0.5635252209247812\n",
      "0.6246464388841103\n",
      "0.09410446717099052\n",
      "0.4561428069078499\n",
      "16.584760294419162\n",
      "-0.373114099768264\n",
      "-0.5048133501630259\n",
      "-0.5360059945336668\n",
      "-0.16801652185692328\n",
      "0.20873819627765033\n",
      "-0.38693449835495924\n",
      "0.21108117961625916\n",
      "1.292314029125592\n",
      "0.31606197283364734\n",
      "-0.24072638106542177\n",
      "-0.31743555739552315\n",
      "-0.21301849898040953\n",
      "5.471999064125683\n",
      "3.3180874508285774\n",
      "1.568464944116109\n",
      "-0.1722389354128035\n",
      "1.139548200969911\n",
      "-0.32045289588187703\n",
      "0.4506348588099176\n",
      "-0.3276244276657329\n",
      "-0.37281166783533515\n",
      "0.3034553174646939\n",
      "-0.22042271414663434\n",
      "-0.17681698244515692\n",
      "0.6716683448745361\n",
      "2.330809823292624\n",
      "-0.31467895055346473\n",
      "0.32973369604507274\n",
      "-0.2995312588569161\n",
      "-0.4224125336865149\n",
      "-0.3733165488563639\n",
      "1.7316422348598537\n",
      "-0.3423731083536564\n",
      "-0.321081278528186\n",
      "0.3815346195050556\n",
      "0.9035204883347018\n",
      "1.8007180781049712\n",
      "5.644615415469143\n",
      "1.5024074620685708\n",
      "-0.3103663531297254\n",
      "-0.38221354547179887\n",
      "-0.5701001606031113\n",
      "-0.19521828163440214\n",
      "-0.31347016613365175\n",
      "-0.236761596123012\n",
      "2.0441972574111222\n",
      "-0.37736203741690716\n",
      "-0.35183557681981326\n",
      "-0.3495263359421007\n",
      "-0.2521362794677515\n",
      "-0.11980849197735183\n",
      "-0.3256425564384904\n",
      "-0.42750741003143766\n",
      "-0.19967169306732419\n",
      "-0.06164374800648009\n",
      "1.0460087266175344\n",
      "-0.07874101087918817\n",
      "-0.47996731760552447\n",
      "-0.19931802213169514\n",
      "0.0400482625495695\n",
      "0.11723827880968773\n",
      "-0.4710091245295635\n",
      "-0.4385658659881153\n",
      "0.7716405044562895\n",
      "-0.4219817749083187\n",
      "8.224075998518368\n",
      "-0.437225562782506\n",
      "-0.5199673108890643\n",
      "-0.050310703378460664\n",
      "-0.30378996709774997\n",
      "-0.26297586465157613\n",
      "-0.28251621418529965\n",
      "-0.4270766238134098\n",
      "-0.39705184345312\n",
      "-0.5057986828660377\n",
      "-0.5515557125134387\n",
      "-0.45414229305187376\n",
      "-0.4286870132000389\n",
      "-0.5790825223784054\n",
      "-0.5277888091400132\n",
      "-0.29850464906203383\n",
      "-0.5384807970148962\n",
      "1.0565253324290955\n",
      "-0.475363111517493\n",
      "-0.6172399892296994\n"
     ]
    }
   ],
   "source": [
    "for i in iso3:\n",
    "    print(trade_balance(i))"
   ]
  },
  {
   "cell_type": "markdown",
   "metadata": {},
   "source": [
    "The trade balances aren't quite zero, but in general are rather small. I'm okay with this especially given that we started with a huge objective function. You may want to try leaving other markets unconstrained to try to reach a smaller objective, but it's importance depends on how precise you need these parameters to be.\n",
    "\n",
    "In this case, we are able to solve for close to optimal solution values. However, some models will be difficult to solve using the \"IPOpt\" solver (a free, non-linear solver), and sometimes commercial solvers are much, much better at finding solutions to particular types of large problems. You can use fast commercial solvers instead (such as Cplex, Gurobi, and Knitro), but they are not free. I haven't figured out how to get these locally without paying, but we have an institutional subscription to GAMS that can be run on the ARE server, which includes (demos to some of) these and many more commercial solvers. Pyomo allows you to write your problem as a script readable by GAMS, which allows for use of its more powerful solvers (without having to code in GAMS). Be aware that many solvers require you to start with a small value of your objective function, so you may need to either scale down your variables and/or objective function by a constant, or solve it first locally and then export the problem later. Solvers may also require variable boundaries that others do not. To do so, run:"
   ]
  },
  {
   "cell_type": "code",
   "execution_count": 119,
   "metadata": {},
   "outputs": [
    {
     "data": {
      "text/plain": [
       "('goods_mkt_clearing.gms', 140433346716528)"
      ]
     },
     "execution_count": 119,
     "metadata": {},
     "output_type": "execute_result"
    }
   ],
   "source": [
    "instance.write(\"goods_mkt_clearing.gms\",io_options={'put_results':'dat'})"
   ]
  },
  {
   "cell_type": "markdown",
   "metadata": {},
   "source": [
    "Another resource that may be helpful is the freely provided <a href=\"https://neos-server.org/neos/\">NEOS server at the University of Wisconsin</a> that allows you to run your model remotely using many commerical solvers. To use the server, you need to write your model to a GAMS file as done above."
   ]
  },
  {
   "cell_type": "markdown",
   "metadata": {},
   "source": [
    "Questions? Comments?\n",
    "\n",
    "Email me: jsayre@berkeley.edu"
   ]
  }
 ],
 "metadata": {
  "kernelspec": {
   "display_name": "Python 3",
   "language": "python",
   "name": "python3"
  },
  "language_info": {
   "codemirror_mode": {
    "name": "ipython",
    "version": 3
   },
   "file_extension": ".py",
   "mimetype": "text/x-python",
   "name": "python",
   "nbconvert_exporter": "python",
   "pygments_lexer": "ipython3",
   "version": "3.7.3"
  }
 },
 "nbformat": 4,
 "nbformat_minor": 2
}
